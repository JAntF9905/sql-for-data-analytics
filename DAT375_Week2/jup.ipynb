{
 "cells": [
  {
   "cell_type": "markdown",
   "metadata": {},
   "source": [
    "# Markdown Cell: Exercise Title and Description\n",
    "Add a Markdown cell with the title 'Exercise 9.1: Preliminary Data Collection Using SQL Techniques' and the description provided in the file."
   ]
  },
  {
   "cell_type": "code",
   "execution_count": null,
   "metadata": {},
   "outputs": [],
   "source": [
    "# Add a Markdown cell with the exercise title and description\n",
    "from IPython.display import Markdown, display\n",
    "\n",
    "# Display the title and description as a Markdown cell\n",
    "display(Markdown(\"# Exercise 9.1: Preliminary Data Collection Using SQL Techniques\\nThis exercise collects preliminary data. We will load the database, list scooter product details, extract product IDs, and store the results in a new table.\"))"
   ]
  },
  {
   "cell_type": "markdown",
   "metadata": {},
   "source": [
    "# Load the Database\n",
    "Write SQL code to connect to the database and load the required data."
   ]
  },
  {
   "cell_type": "code",
   "execution_count": null,
   "metadata": {},
   "outputs": [],
   "source": [
    "# Import necessary libraries\n",
    "import sqlite3\n",
    "from IPython.display import display, Markdown\n",
    "\n",
    "# Connect to the SQLite database (replace 'database_name.db' with your actual database file)\n",
    "connection = sqlite3.connect('database_name.db')\n",
    "\n",
    "# Add a Markdown cell to indicate the database connection\n",
    "display(Markdown(\"### Database Connection Established\\nSuccessfully connected to the database.\"))\n",
    "\n",
    "# Load the required data (replace 'table_name' with your actual table name)\n",
    "query = \"SELECT * FROM table_name;\"\n",
    "data = connection.execute(query).fetchall()\n",
    "\n",
    "# Add a Markdown cell to indicate data loading\n",
    "display(Markdown(\"### Data Loaded\\nThe required data has been successfully loaded from the database.\"))"
   ]
  },
  {
   "cell_type": "markdown",
   "metadata": {},
   "source": [
    "# List Scooter Product Details\n",
    "Write SQL queries to list details of scooter products from the database."
   ]
  },
  {
   "cell_type": "code",
   "execution_count": null,
   "metadata": {},
   "outputs": [],
   "source": [
    "# Write SQL queries to list details of scooter products from the database\n",
    "# Replace 'scooter_table' with the actual table name containing scooter product details\n",
    "scooter_query = \"SELECT * FROM scooter_table;\"\n",
    "\n",
    "# Execute the query and fetch the results\n",
    "scooter_data = connection.execute(scooter_query).fetchall()\n",
    "\n",
    "# Add a Markdown cell to indicate the query execution\n",
    "display(Markdown(\"### Scooter Product Details\\nThe details of scooter products have been successfully retrieved from the database.\"))\n",
    "\n",
    "# Display the fetched data\n",
    "for row in scooter_data:\n",
    "    print(row)"
   ]
  },
  {
   "cell_type": "markdown",
   "metadata": {},
   "source": [
    "# Extract Product IDs\n",
    "Write SQL queries to extract product IDs from the scooter product details."
   ]
  },
  {
   "cell_type": "code",
   "execution_count": null,
   "metadata": {},
   "outputs": [],
   "source": [
    "# Write SQL queries to extract product IDs from the scooter product details\n",
    "# Replace 'scooter_table' and 'product_id_column' with the actual table and column names\n",
    "product_id_query = \"SELECT product_id_column FROM scooter_table;\"\n",
    "\n",
    "# Execute the query and fetch the product IDs\n",
    "product_ids = connection.execute(product_id_query).fetchall()\n",
    "\n",
    "# Add a Markdown cell to indicate the extraction of product IDs\n",
    "display(Markdown(\"### Product IDs Extracted\\nThe product IDs have been successfully extracted from the scooter product details.\"))\n",
    "\n",
    "# Display the extracted product IDs\n",
    "for product_id in product_ids:\n",
    "    print(product_id)"
   ]
  },
  {
   "cell_type": "markdown",
   "metadata": {},
   "source": [
    "# Store Results in a New Table\n",
    "Write SQL queries to store the extracted product IDs into a new table in the database."
   ]
  },
  {
   "cell_type": "code",
   "execution_count": null,
   "metadata": {},
   "outputs": [],
   "source": [
    "# Write SQL queries to store the extracted product IDs into a new table in the database\n",
    "# Replace 'new_table_name' with the desired name for the new table\n",
    "create_table_query = \"\"\"\n",
    "CREATE TABLE IF NOT EXISTS new_table_name (\n",
    "    product_id_column INTEGER\n",
    ");\n",
    "\"\"\"\n",
    "\n",
    "# Execute the query to create the new table\n",
    "connection.execute(create_table_query)\n",
    "\n",
    "# Insert the extracted product IDs into the new table\n",
    "# Replace 'new_table_name' and 'product_id_column' with the actual table and column names\n",
    "insert_query = \"INSERT INTO new_table_name (product_id_column) VALUES (?);\"\n",
    "connection.executemany(insert_query, product_ids)\n",
    "\n",
    "# Commit the changes to the database\n",
    "connection.commit()\n",
    "\n",
    "# Add a Markdown cell to indicate the successful storage of product IDs\n",
    "display(Markdown(\"### Product IDs Stored\\nThe extracted product IDs have been successfully stored in a new table in the database.\"))\n",
    "\n",
    "# Verify the contents of the new table\n",
    "verify_query = \"SELECT * FROM new_table_name;\"\n",
    "new_table_data = connection.execute(verify_query).fetchall()\n",
    "\n",
    "# Display the contents of the new table\n",
    "for row in new_table_data:\n",
    "    print(row)"
   ]
  }
 ],
 "metadata": {
  "language_info": {
   "name": "csharp"
  }
 },
 "nbformat": 4,
 "nbformat_minor": 2
}
