{
 "cells": [
  {
   "cell_type": "markdown",
   "metadata": {},
   "source": [
    "# Exercise 9.1: Preliminary Data Collection Using SQL Techniques\n",
    "This exercise collects preliminary data. We will load the database, list scooter product details, extract product IDs, and store the results in a new table."
   ]
  },
  {
   "cell_type": "markdown",
   "metadata": {},
   "source": [
    "## Step 1: Load the sqlda database"
   ]
  },
  {
   "cell_type": "code",
   "execution_count": null,
   "metadata": {
    "dotnet_interactive": {
     "language": "csharp"
    },
    "polyglot_notebook": {
     "kernelName": "csharp"
    }
   },
   "outputs": [],
   "source": [
    "#r \"nuget:Microsoft.DotNet.Interactive.PostgreSql, *-*\""
   ]
  },
  {
   "cell_type": "code",
   "execution_count": 3,
   "metadata": {
    "dotnet_interactive": {
     "language": "javascript"
    },
    "polyglot_notebook": {
     "kernelName": "javascript"
    },
    "vscode": {
     "languageId": "polyglot-notebook"
    }
   },
   "outputs": [
    {
     "ename": "Error",
     "evalue": "(1,20): error DNI103: Unrecognized parameter name '--kernel-name'\n(1,51): error DNI103: Unrecognized parameter name '--connection-string'",
     "output_type": "error",
     "traceback": [
      "(1,20): error DNI103: Unrecognized parameter name '--kernel-name'\n",
      "(1,51): error DNI103: Unrecognized parameter name '--connection-string'"
     ]
    }
   ],
   "source": [
    "#!connect postgres --kernel-name myPostgresKernel --connection-string \"Host=localhost;Port=54321;Username=postgres;Password=securepassword;Database=sqlda1\""
   ]
  },
  {
   "cell_type": "markdown",
   "metadata": {},
   "source": [
    "## Step 2: List the model, base_msrp, and production_start_date for scooter products"
   ]
  },
  {
   "cell_type": "code",
   "execution_count": 2,
   "metadata": {
    "dotnet_interactive": {
     "language": "sql-myPostgresKernel"
    },
    "polyglot_notebook": {
     "kernelName": "sql-myPostgresKernel"
    },
    "vscode": {
     "languageId": "polyglot-notebook"
    }
   },
   "outputs": [
    {
     "ename": "Error",
     "evalue": "Microsoft.DotNet.Interactive.NoSuitableKernelException: No handler registered on kernel sql-myPostgresKernel for command: SubmitCode: SELECT model, base_msrp, production_start_date  ...\n   at Microsoft.DotNet.Interactive.Commands.KernelCommand.InvokeAsync(KernelInvocationContext context) in D:\\a\\_work\\1\\s\\src\\Microsoft.DotNet.Interactive\\Commands\\KernelCommand.cs:line 188\n   at Microsoft.DotNet.Interactive.Kernel.HandleAsync(KernelCommand command, KernelInvocationContext context) in D:\\a\\_work\\1\\s\\src\\Microsoft.DotNet.Interactive\\Kernel.cs:line 365\n   at Microsoft.DotNet.Interactive.CompositeKernel.HandleAsync(KernelCommand command, KernelInvocationContext context) in D:\\a\\_work\\1\\s\\src\\Microsoft.DotNet.Interactive\\CompositeKernel.cs:line 216\n   at Microsoft.DotNet.Interactive.KernelCommandPipeline.<BuildPipeline>b__6_0(KernelCommand command, KernelInvocationContext context, KernelPipelineContinuation _) in D:\\a\\_work\\1\\s\\src\\Microsoft.DotNet.Interactive\\KernelCommandPipeline.cs:line 60\n   at Microsoft.DotNet.Interactive.KernelCommandPipeline.<>c__DisplayClass6_1.<<BuildPipeline>b__3>d.MoveNext() in D:\\a\\_work\\1\\s\\src\\Microsoft.DotNet.Interactive\\KernelCommandPipeline.cs:line 75\n--- End of stack trace from previous location ---\n   at Microsoft.DotNet.Interactive.App.KernelExtensions.<>c__DisplayClass6_0.<<UseTelemetrySender>b__0>d.MoveNext() in D:\\a\\_work\\1\\s\\src\\dotnet-interactive\\KernelExtensions.cs:line 457\n--- End of stack trace from previous location ---\n   at Microsoft.DotNet.Interactive.KernelCommandPipeline.<>c__DisplayClass6_1.<<BuildPipeline>b__3>d.MoveNext() in D:\\a\\_work\\1\\s\\src\\Microsoft.DotNet.Interactive\\KernelCommandPipeline.cs:line 75\n--- End of stack trace from previous location ---\n   at Microsoft.DotNet.Interactive.App.KernelExtensionLoader.<>c__DisplayClass0_0.<<UseNuGetExtensions>b__0>d.MoveNext() in D:\\a\\_work\\1\\s\\src\\dotnet-interactive\\KernelExtensionLoader.cs:line 25\n--- End of stack trace from previous location ---\n   at Microsoft.DotNet.Interactive.KernelCommandPipeline.<>c__DisplayClass6_1.<<BuildPipeline>b__3>d.MoveNext() in D:\\a\\_work\\1\\s\\src\\Microsoft.DotNet.Interactive\\KernelCommandPipeline.cs:line 75\n--- End of stack trace from previous location ---\n   at Microsoft.DotNet.Interactive.App.KernelExtensions.<>c__DisplayClass5_0.<<UseSecretManager>b__0>d.MoveNext() in D:\\a\\_work\\1\\s\\src\\dotnet-interactive\\KernelExtensions.cs:line 388\n--- End of stack trace from previous location ---\n   at Microsoft.DotNet.Interactive.KernelCommandPipeline.<>c__DisplayClass6_0.<<BuildPipeline>g__Combine|2>d.MoveNext() in D:\\a\\_work\\1\\s\\src\\Microsoft.DotNet.Interactive\\KernelCommandPipeline.cs:line 73\n--- End of stack trace from previous location ---\n   at Microsoft.DotNet.Interactive.KernelCommandPipeline.<>c__DisplayClass6_0.<<BuildPipeline>g__Combine|2>d.MoveNext() in D:\\a\\_work\\1\\s\\src\\Microsoft.DotNet.Interactive\\KernelCommandPipeline.cs:line 73\n--- End of stack trace from previous location ---\n   at Microsoft.DotNet.Interactive.KernelCommandPipeline.<>c__DisplayClass6_0.<<BuildPipeline>g__Combine|2>d.MoveNext() in D:\\a\\_work\\1\\s\\src\\Microsoft.DotNet.Interactive\\KernelCommandPipeline.cs:line 73\n--- End of stack trace from previous location ---\n   at Microsoft.DotNet.Interactive.KernelCommandPipeline.SendAsync(KernelCommand command, KernelInvocationContext context) in D:\\a\\_work\\1\\s\\src\\Microsoft.DotNet.Interactive\\KernelCommandPipeline.cs:line 41",
     "output_type": "error",
     "traceback": [
      "Microsoft.DotNet.Interactive.NoSuitableKernelException: No handler registered on kernel sql-myPostgresKernel for command: SubmitCode: SELECT model, base_msrp, production_start_date  ...\n",
      "   at Microsoft.DotNet.Interactive.Commands.KernelCommand.InvokeAsync(KernelInvocationContext context) in D:\\a\\_work\\1\\s\\src\\Microsoft.DotNet.Interactive\\Commands\\KernelCommand.cs:line 188\n",
      "   at Microsoft.DotNet.Interactive.Kernel.HandleAsync(KernelCommand command, KernelInvocationContext context) in D:\\a\\_work\\1\\s\\src\\Microsoft.DotNet.Interactive\\Kernel.cs:line 365\n",
      "   at Microsoft.DotNet.Interactive.CompositeKernel.HandleAsync(KernelCommand command, KernelInvocationContext context) in D:\\a\\_work\\1\\s\\src\\Microsoft.DotNet.Interactive\\CompositeKernel.cs:line 216\n",
      "   at Microsoft.DotNet.Interactive.KernelCommandPipeline.<BuildPipeline>b__6_0(KernelCommand command, KernelInvocationContext context, KernelPipelineContinuation _) in D:\\a\\_work\\1\\s\\src\\Microsoft.DotNet.Interactive\\KernelCommandPipeline.cs:line 60\n",
      "   at Microsoft.DotNet.Interactive.KernelCommandPipeline.<>c__DisplayClass6_1.<<BuildPipeline>b__3>d.MoveNext() in D:\\a\\_work\\1\\s\\src\\Microsoft.DotNet.Interactive\\KernelCommandPipeline.cs:line 75\n",
      "--- End of stack trace from previous location ---\n",
      "   at Microsoft.DotNet.Interactive.App.KernelExtensions.<>c__DisplayClass6_0.<<UseTelemetrySender>b__0>d.MoveNext() in D:\\a\\_work\\1\\s\\src\\dotnet-interactive\\KernelExtensions.cs:line 457\n",
      "--- End of stack trace from previous location ---\n",
      "   at Microsoft.DotNet.Interactive.KernelCommandPipeline.<>c__DisplayClass6_1.<<BuildPipeline>b__3>d.MoveNext() in D:\\a\\_work\\1\\s\\src\\Microsoft.DotNet.Interactive\\KernelCommandPipeline.cs:line 75\n",
      "--- End of stack trace from previous location ---\n",
      "   at Microsoft.DotNet.Interactive.App.KernelExtensionLoader.<>c__DisplayClass0_0.<<UseNuGetExtensions>b__0>d.MoveNext() in D:\\a\\_work\\1\\s\\src\\dotnet-interactive\\KernelExtensionLoader.cs:line 25\n",
      "--- End of stack trace from previous location ---\n",
      "   at Microsoft.DotNet.Interactive.KernelCommandPipeline.<>c__DisplayClass6_1.<<BuildPipeline>b__3>d.MoveNext() in D:\\a\\_work\\1\\s\\src\\Microsoft.DotNet.Interactive\\KernelCommandPipeline.cs:line 75\n",
      "--- End of stack trace from previous location ---\n",
      "   at Microsoft.DotNet.Interactive.App.KernelExtensions.<>c__DisplayClass5_0.<<UseSecretManager>b__0>d.MoveNext() in D:\\a\\_work\\1\\s\\src\\dotnet-interactive\\KernelExtensions.cs:line 388\n",
      "--- End of stack trace from previous location ---\n",
      "   at Microsoft.DotNet.Interactive.KernelCommandPipeline.<>c__DisplayClass6_0.<<BuildPipeline>g__Combine|2>d.MoveNext() in D:\\a\\_work\\1\\s\\src\\Microsoft.DotNet.Interactive\\KernelCommandPipeline.cs:line 73\n",
      "--- End of stack trace from previous location ---\n",
      "   at Microsoft.DotNet.Interactive.KernelCommandPipeline.<>c__DisplayClass6_0.<<BuildPipeline>g__Combine|2>d.MoveNext() in D:\\a\\_work\\1\\s\\src\\Microsoft.DotNet.Interactive\\KernelCommandPipeline.cs:line 73\n",
      "--- End of stack trace from previous location ---\n",
      "   at Microsoft.DotNet.Interactive.KernelCommandPipeline.<>c__DisplayClass6_0.<<BuildPipeline>g__Combine|2>d.MoveNext() in D:\\a\\_work\\1\\s\\src\\Microsoft.DotNet.Interactive\\KernelCommandPipeline.cs:line 73\n",
      "--- End of stack trace from previous location ---\n",
      "   at Microsoft.DotNet.Interactive.KernelCommandPipeline.SendAsync(KernelCommand command, KernelInvocationContext context) in D:\\a\\_work\\1\\s\\src\\Microsoft.DotNet.Interactive\\KernelCommandPipeline.cs:line 41"
     ]
    }
   ],
   "source": [
    "SELECT model, base_msrp, production_start_date \n",
    "FROM products \n",
    "WHERE product_type = 'scooter';"
   ]
  },
  {
   "cell_type": "markdown",
   "metadata": {},
   "source": [
    "## Step 3: Extract the model name and product IDs for scooter products"
   ]
  },
  {
   "cell_type": "code",
   "execution_count": null,
   "metadata": {
    "dotnet_interactive": {
     "language": "sql-myPostgresKernel"
    },
    "polyglot_notebook": {
     "kernelName": "sql-myPostgresKernel"
    }
   },
   "outputs": [],
   "source": [
    "SELECT model, product_id \n",
    "FROM products \n",
    "WHERE product_type = 'scooter';"
   ]
  },
  {
   "cell_type": "markdown",
   "metadata": {},
   "source": [
    "## Step 4: Insert the above results into a new table called product_names"
   ]
  },
  {
   "cell_type": "code",
   "execution_count": null,
   "metadata": {
    "dotnet_interactive": {
     "language": "sql-myPostgresKernel"
    },
    "polyglot_notebook": {
     "kernelName": "sql-myPostgresKernel"
    }
   },
   "outputs": [],
   "source": [
    "Drop table if exists product_names;\n",
    "\n",
    "SELECT model, product_id \n",
    "INTO product_names \n",
    "FROM products \n",
    "WHERE product_type = 'scooter';"
   ]
  },
  {
   "cell_type": "markdown",
   "metadata": {},
   "source": [
    "# Exercise 9.2: Extracting the Sales Information\n",
    "In this exercise we join sales data with the product names and then isolate Bat Scooter sales."
   ]
  },
  {
   "cell_type": "markdown",
   "metadata": {},
   "source": [
    "## Step 1: Load the sqlda database"
   ]
  },
  {
   "cell_type": "markdown",
   "metadata": {},
   "source": [
    "psql sqlda"
   ]
  },
  {
   "cell_type": "markdown",
   "metadata": {},
   "source": [
    "## Step 2: List the available fields in the database"
   ]
  },
  {
   "cell_type": "markdown",
   "metadata": {},
   "source": [
    "## Step 3: Create a new table (products_sales) by joining sales and product_names on product_id"
   ]
  },
  {
   "cell_type": "code",
   "execution_count": null,
   "metadata": {
    "dotnet_interactive": {
     "language": "sql-myPostgresKernel"
    },
    "polyglot_notebook": {
     "kernelName": "sql-myPostgresKernel"
    }
   },
   "outputs": [],
   "source": [
    "Drop table if exists products_sales;\n",
    "\n",
    "SELECT model, customer_id, sales_transaction_date, sales_amount, channel, dealership_id \n",
    "INTO products_sales \n",
    "FROM sales \n",
    "INNER JOIN product_names \n",
    "  ON sales.product_id = product_names.product_id;"
   ]
  },
  {
   "cell_type": "markdown",
   "metadata": {},
   "source": [
    "## Step 4: Display the first five rows of products_sales"
   ]
  },
  {
   "cell_type": "code",
   "execution_count": null,
   "metadata": {
    "dotnet_interactive": {
     "language": "sql-myPostgresKernel"
    },
    "polyglot_notebook": {
     "kernelName": "sql-myPostgresKernel"
    }
   },
   "outputs": [],
   "source": [
    "SELECT * \n",
    "FROM products_sales \n",
    "LIMIT 5;"
   ]
  },
  {
   "cell_type": "markdown",
   "metadata": {},
   "source": [
    "## Step 5: Retrieve Bat Scooter sales ordered by sales_transaction_date"
   ]
  },
  {
   "cell_type": "code",
   "execution_count": null,
   "metadata": {
    "dotnet_interactive": {
     "language": "sql-myPostgresKernel"
    },
    "polyglot_notebook": {
     "kernelName": "sql-myPostgresKernel"
    }
   },
   "outputs": [],
   "source": [
    "SELECT * \n",
    "FROM products_sales \n",
    "WHERE model = 'Bat' \n",
    "ORDER BY sales_transaction_date;"
   ]
  },
  {
   "cell_type": "markdown",
   "metadata": {},
   "source": [
    "## Step 6: Count the number of Bat Scooter sales records"
   ]
  },
  {
   "cell_type": "code",
   "execution_count": null,
   "metadata": {
    "dotnet_interactive": {
     "language": "sql-myPostgresKernel"
    },
    "polyglot_notebook": {
     "kernelName": "sql-myPostgresKernel"
    }
   },
   "outputs": [],
   "source": [
    "SELECT COUNT(model) \n",
    "FROM products_sales \n",
    "WHERE model = 'Bat';"
   ]
  },
  {
   "cell_type": "markdown",
   "metadata": {},
   "source": [
    "## Step 7: Determine the last sale date for the Bat Scooter"
   ]
  },
  {
   "cell_type": "code",
   "execution_count": null,
   "metadata": {
    "dotnet_interactive": {
     "language": "sql-myPostgresKernel"
    },
    "polyglot_notebook": {
     "kernelName": "sql-myPostgresKernel"
    }
   },
   "outputs": [],
   "source": [
    "SELECT MAX(sales_transaction_date) \n",
    "FROM products_sales \n",
    "WHERE model = 'Bat';"
   ]
  },
  {
   "cell_type": "markdown",
   "metadata": {},
   "source": [
    "## Step 8: Insert Bat Scooter sales records into a new table (bat_sales) ordered by date"
   ]
  },
  {
   "cell_type": "code",
   "execution_count": null,
   "metadata": {
    "dotnet_interactive": {
     "language": "sql-myPostgresKernel"
    },
    "polyglot_notebook": {
     "kernelName": "sql-myPostgresKernel"
    }
   },
   "outputs": [],
   "source": [
    "Drop TABLE IF EXISTS bat_sales;\n",
    "\n",
    "SELECT * \n",
    "INTO bat_sales \n",
    "FROM products_sales \n",
    "WHERE model = 'Bat' \n",
    "ORDER BY sales_transaction_date;"
   ]
  },
  {
   "cell_type": "markdown",
   "metadata": {},
   "source": [
    "## Step 9: Remove the time information in bat_sales (convert to date)"
   ]
  },
  {
   "cell_type": "code",
   "execution_count": null,
   "metadata": {
    "dotnet_interactive": {
     "language": "sql-myPostgresKernel"
    },
    "polyglot_notebook": {
     "kernelName": "sql-myPostgresKernel"
    }
   },
   "outputs": [],
   "source": [
    "UPDATE bat_sales \n",
    "SET sales_transaction_date = DATE(sales_transaction_date);"
   ]
  },
  {
   "cell_type": "markdown",
   "metadata": {},
   "source": [
    "## Step 10: Display the first five records of bat_sales ordered by date"
   ]
  },
  {
   "cell_type": "code",
   "execution_count": null,
   "metadata": {
    "dotnet_interactive": {
     "language": "sql-myPostgresKernel"
    },
    "polyglot_notebook": {
     "kernelName": "sql-myPostgresKernel"
    }
   },
   "outputs": [],
   "source": [
    "SELECT * \n",
    "FROM bat_sales \n",
    "ORDER BY sales_transaction_date \n",
    "LIMIT 5;"
   ]
  },
  {
   "cell_type": "markdown",
   "metadata": {},
   "source": [
    "## Step 11: Create bat_sales_daily table with daily sales count"
   ]
  },
  {
   "cell_type": "code",
   "execution_count": null,
   "metadata": {
    "dotnet_interactive": {
     "language": "sql-myPostgresKernel"
    },
    "polyglot_notebook": {
     "kernelName": "sql-myPostgresKernel"
    }
   },
   "outputs": [],
   "source": [
    "SELECT sales_transaction_date, COUNT(sales_transaction_date) \n",
    "INTO bat_sales_daily \n",
    "FROM bat_sales \n",
    "GROUP BY sales_transaction_date \n",
    "ORDER BY sales_transaction_date;"
   ]
  },
  {
   "cell_type": "markdown",
   "metadata": {},
   "source": [
    "# Activity 9.1: Quantifying the Sales Drop\n",
    "Here we compute a cumulative sum of daily sales, apply a 7-day lag, and calculate the growth rate (volume)."
   ]
  },
  {
   "cell_type": "markdown",
   "metadata": {},
   "source": [
    "## Step 1: Load the sqlda database\n",
    "\n",
    "psql sqlda"
   ]
  },
  {
   "cell_type": "markdown",
   "metadata": {},
   "source": [
    "## Step 2: Compute the daily cumulative sum of sales and insert into bat_sales_growth"
   ]
  },
  {
   "cell_type": "code",
   "execution_count": null,
   "metadata": {
    "dotnet_interactive": {
     "language": "sql-myPostgresKernel"
    },
    "polyglot_notebook": {
     "kernelName": "sql-myPostgresKernel"
    }
   },
   "outputs": [],
   "source": [
    "DROP TABLE IF EXISTS bat_sales_growth;\n",
    "\n",
    "SELECT *, sum(count) OVER (ORDER BY sales_transaction_date) AS cumulative_sum\n",
    "INTO bat_sales_growth\n",
    "FROM bat_sales_daily;"
   ]
  },
  {
   "cell_type": "markdown",
   "metadata": {},
   "source": [
    "## Step 3: Compute a 7-day lag of the cumulative sum and insert into bat_sales_daily_delay"
   ]
  },
  {
   "cell_type": "code",
   "execution_count": null,
   "metadata": {
    "dotnet_interactive": {
     "language": "sql-myPostgresKernel"
    },
    "polyglot_notebook": {
     "kernelName": "sql-myPostgresKernel"
    }
   },
   "outputs": [],
   "source": [
    "DROP TABLE IF EXISTS bat_sales_daily_delay;\n",
    "\n",
    "SELECT *, lag(cumulative_sum, 7) OVER (ORDER BY sales_transaction_date) AS lag_value\n",
    "INTO bat_sales_daily_delay\n",
    "FROM bat_sales_growth;"
   ]
  },
  {
   "cell_type": "markdown",
   "metadata": {},
   "source": [
    "## Step 4: Inspect the first 15 rows of bat_sales_daily_delay"
   ]
  },
  {
   "cell_type": "code",
   "execution_count": null,
   "metadata": {
    "dotnet_interactive": {
     "language": "sql-myPostgresKernel"
    },
    "polyglot_notebook": {
     "kernelName": "sql-myPostgresKernel"
    }
   },
   "outputs": [],
   "source": [
    "SELECT * \n",
    "FROM bat_sales_daily_delay \n",
    "LIMIT 15;"
   ]
  },
  {
   "cell_type": "markdown",
   "metadata": {},
   "source": [
    "## Step 5: Compute sales growth as a percentage and insert into bat_sales_delay_vol"
   ]
  },
  {
   "cell_type": "code",
   "execution_count": null,
   "metadata": {
    "dotnet_interactive": {
     "language": "sql-myPostgresKernel"
    },
    "polyglot_notebook": {
     "kernelName": "sql-myPostgresKernel"
    }
   },
   "outputs": [],
   "source": [
    "DROP TABLE IF EXISTS bat_sales_delay_vol;\n",
    "\n",
    "SELECT *, (cumulative_sum - lag_value) / lag_value AS volume\n",
    "INTO bat_sales_delay_vol\n",
    "FROM bat_sales_daily_delay;"
   ]
  },
  {
   "cell_type": "markdown",
   "metadata": {},
   "source": [
    "## Step 6: Display the first 22 records of bat_sales_delay_vol"
   ]
  },
  {
   "cell_type": "code",
   "execution_count": null,
   "metadata": {
    "dotnet_interactive": {
     "language": "sql-myPostgresKernel"
    },
    "polyglot_notebook": {
     "kernelName": "sql-myPostgresKernel"
    }
   },
   "outputs": [],
   "source": [
    "SELECT * \n",
    "FROM bat_sales_delay_vol \n",
    "LIMIT 22;"
   ]
  },
  {
   "cell_type": "markdown",
   "metadata": {},
   "source": [
    "#### ----------------------------------------------------------------------------------"
   ]
  }
 ],
 "metadata": {
  "kernelInfo": {
   "defaultKernelName": null,
   "items": [
    {
     "aliases": [
      "c#",
      "cs"
     ],
     "languageName": "C#",
     "name": "csharp"
    },
    {
     "aliases": [
      "f#",
      "fs"
     ],
     "languageName": "F#",
     "name": "fsharp"
    },
    {
     "languageName": "HTML",
     "name": "html"
    },
    {
     "languageName": "HTTP",
     "name": "http"
    },
    {
     "aliases": [
      "js"
     ],
     "languageName": "JavaScript",
     "name": "javascript"
    },
    {
     "languageName": "Mermaid",
     "name": "mermaid"
    },
    {
     "aliases": [
      "powershell"
     ],
     "languageName": "PowerShell",
     "name": "pwsh"
    },
    {
     "name": "value"
    }
   ]
  },
  "language_info": {
   "name": "csharp"
  },
  "polyglot_notebook": {
   "kernelInfo": {
    "defaultKernelName": "csharp",
    "items": [
     {
      "aliases": [],
      "languageName": "csharp",
      "name": "csharp"
     },
     {
      "aliases": [
       "f#",
       "fs"
      ],
      "languageName": "F#",
      "name": "fsharp"
     },
     {
      "aliases": [],
      "languageName": "HTML",
      "name": "html"
     },
     {
      "aliases": [],
      "languageName": "HTTP",
      "name": "http"
     },
     {
      "aliases": [
       "js"
      ],
      "languageName": "JavaScript",
      "name": "javascript"
     },
     {
      "aliases": [],
      "languageName": "Mermaid",
      "name": "mermaid"
     },
     {
      "aliases": [
       "powershell"
      ],
      "languageName": "PowerShell",
      "name": "pwsh"
     },
     {
      "aliases": [],
      "languageName": "PostgreSQL",
      "name": "sql-myPostgresKernel"
     },
     {
      "aliases": [],
      "name": "value"
     }
    ]
   }
  }
 },
 "nbformat": 4,
 "nbformat_minor": 5
}
