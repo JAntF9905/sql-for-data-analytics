{
 "cells": [
  {
   "cell_type": "code",
   "execution_count": null,
   "id": "00c797c0",
   "metadata": {},
   "outputs": [],
   "source": []
  },
  {
   "cell_type": "code",
   "execution_count": null,
   "id": "6fe15880",
   "metadata": {
    "vscode": {
     "languageId": "sql"
    }
   },
   "outputs": [],
   "source": []
  },
  {
   "cell_type": "code",
   "execution_count": null,
   "id": "c494da67",
   "metadata": {
    "lines_to_next_cell": 2
   },
   "outputs": [],
   "source": [
    "\n",
    "# Exercise 9.1: Preliminary Data Collection Using SQL Techniques\n",
    "This exercise collects preliminary data. We will load the database, list scooter product details, extract product IDs, and store the results in a new table."
   ]
  },
  {
   "cell_type": "code",
   "execution_count": null,
   "id": "6eebf59d",
   "metadata": {},
   "outputs": [],
   "source": [
    "*/"
   ]
  },
  {
   "cell_type": "code",
   "execution_count": null,
   "id": "6d425818",
   "metadata": {},
   "outputs": [],
   "source": [
    ""
   ]
  },
  {
   "cell_type": "markdown",
   "id": "e84ea60d",
   "metadata": {
    "lines_to_next_cell": 2
   },
   "source": [
    "# Step 1: Load the sqlda database"
   ]
  },
  {
   "cell_type": "code",
   "execution_count": null,
   "id": "8f13d875",
   "metadata": {},
   "outputs": [],
   "source": [
    "*/"
   ]
  },
  {
   "cell_type": "code",
   "execution_count": null,
   "id": "e490fd73",
   "metadata": {},
   "outputs": [],
   "source": [
    ""
   ]
  },
  {
   "cell_type": "code",
   "execution_count": null,
   "id": "6d6bb15c",
   "metadata": {
    "lines_to_next_cell": 2
   },
   "outputs": [],
   "source": [
    "psql sqlda"
   ]
  },
  {
   "cell_type": "code",
   "execution_count": null,
   "id": "ec5feb75",
   "metadata": {},
   "outputs": [],
   "source": [
    "*/"
   ]
  },
  {
   "cell_type": "code",
   "execution_count": null,
   "id": "40610ba5",
   "metadata": {},
   "outputs": [],
   "source": [
    ""
   ]
  },
  {
   "cell_type": "markdown",
   "id": "24dbb526",
   "metadata": {
    "lines_to_next_cell": 2
   },
   "source": [
    "# Step 2: List the model, base_msrp, and production_start_date for scooter products"
   ]
  },
  {
   "cell_type": "code",
   "execution_count": null,
   "id": "33e4d5fa",
   "metadata": {},
   "outputs": [],
   "source": [
    "*/"
   ]
  },
  {
   "cell_type": "code",
   "execution_count": null,
   "id": "d23ffa3e",
   "metadata": {
    "vscode": {
     "languageId": "sql"
    }
   },
   "outputs": [],
   "source": [
    "SELECT model, base_msrp, production_start_date \n",
    "FROM products \n",
    "WHERE product_type = 'scooter';"
   ]
  },
  {
   "cell_type": "code",
   "execution_count": null,
   "id": "11b08776",
   "metadata": {},
   "outputs": [],
   "source": []
  },
  {
   "cell_type": "markdown",
   "id": "3b9621db",
   "metadata": {
    "lines_to_next_cell": 2
   },
   "source": [
    "\n",
    "## Step 3: Extract the model name and product IDs for scooter products"
   ]
  },
  {
   "cell_type": "code",
   "execution_count": null,
   "id": "5cc90d0b",
   "metadata": {},
   "outputs": [],
   "source": [
    "*/"
   ]
  },
  {
   "cell_type": "code",
   "execution_count": null,
   "id": "6d0fafc5",
   "metadata": {},
   "outputs": [],
   "source": [
    "SELECT model, product_id \n",
    "FROM products \n",
    "WHERE product_type = 'scooter';"
   ]
  },
  {
   "cell_type": "code",
   "execution_count": null,
   "id": "943872ba",
   "metadata": {},
   "outputs": [],
   "source": []
  },
  {
   "cell_type": "code",
   "execution_count": null,
   "id": "6fd2f7cb",
   "metadata": {
    "lines_to_next_cell": 2
   },
   "outputs": [],
   "source": [
    "\n",
    "## Step 4: Insert the above results into a new table called product_names"
   ]
  },
  {
   "cell_type": "code",
   "execution_count": null,
   "id": "b21b3c21",
   "metadata": {},
   "outputs": [],
   "source": [
    "*/"
   ]
  },
  {
   "cell_type": "code",
   "execution_count": null,
   "id": "62d38961",
   "metadata": {},
   "outputs": [],
   "source": [
    "SELECT model, product_id \n",
    "INTO product_names \n",
    "FROM products \n",
    "WHERE product_type = 'scooter';"
   ]
  },
  {
   "cell_type": "code",
   "execution_count": null,
   "id": "7ab8aff3",
   "metadata": {},
   "outputs": [],
   "source": []
  },
  {
   "cell_type": "code",
   "execution_count": null,
   "id": "f288ce91",
   "metadata": {},
   "outputs": [],
   "source": [
    ""
   ]
  },
  {
   "cell_type": "code",
   "execution_count": null,
   "id": "610bfeae",
   "metadata": {
    "lines_to_next_cell": 2
   },
   "outputs": [],
   "source": [
    "# Exercise 9.2: Extracting the Sales Information\n",
    "In this exercise we join sales data with the product names and then isolate Bat Scooter sales."
   ]
  },
  {
   "cell_type": "code",
   "execution_count": null,
   "id": "13d08097",
   "metadata": {},
   "outputs": [],
   "source": [
    "*/"
   ]
  },
  {
   "cell_type": "code",
   "execution_count": null,
   "id": "245e8d09",
   "metadata": {},
   "outputs": [],
   "source": [
    ""
   ]
  },
  {
   "cell_type": "markdown",
   "id": "f6278281",
   "metadata": {
    "lines_to_next_cell": 2
   },
   "source": [
    "# Step 1: Load the sqlda database"
   ]
  },
  {
   "cell_type": "code",
   "execution_count": null,
   "id": "6859f35a",
   "metadata": {},
   "outputs": [],
   "source": [
    "*/"
   ]
  },
  {
   "cell_type": "code",
   "execution_count": null,
   "id": "009996ce",
   "metadata": {},
   "outputs": [],
   "source": [
    ""
   ]
  },
  {
   "cell_type": "code",
   "execution_count": null,
   "id": "75f9b534",
   "metadata": {
    "lines_to_next_cell": 2
   },
   "outputs": [],
   "source": [
    "psql sqlda"
   ]
  },
  {
   "cell_type": "code",
   "execution_count": null,
   "id": "3aa81367",
   "metadata": {},
   "outputs": [],
   "source": [
    "*/"
   ]
  },
  {
   "cell_type": "code",
   "execution_count": null,
   "id": "3cf725ec",
   "metadata": {},
   "outputs": [],
   "source": [
    ""
   ]
  },
  {
   "cell_type": "markdown",
   "id": "adc91e33",
   "metadata": {
    "lines_to_next_cell": 2
   },
   "source": [
    "# Step 2: List the available fields in the database"
   ]
  },
  {
   "cell_type": "code",
   "execution_count": null,
   "id": "a8af02e9",
   "metadata": {},
   "outputs": [],
   "source": [
    "*/"
   ]
  },
  {
   "cell_type": "code",
   "execution_count": null,
   "id": "996e6070",
   "metadata": {},
   "outputs": [],
   "source": [
    ""
   ]
  },
  {
   "cell_type": "markdown",
   "id": "1f8388f7",
   "metadata": {
    "lines_to_next_cell": 2
   },
   "source": [
    "# Step 3: Create a new table (products_sales) by joining sales and product_names on product_id"
   ]
  },
  {
   "cell_type": "code",
   "execution_count": null,
   "id": "4e8885e5",
   "metadata": {},
   "outputs": [],
   "source": [
    "*/"
   ]
  },
  {
   "cell_type": "code",
   "execution_count": null,
   "id": "2a2cc65d",
   "metadata": {},
   "outputs": [],
   "source": [
    "SELECT model, customer_id, sales_transaction_date, sales_amount, channel, dealership_id \n",
    "INTO products_sales \n",
    "FROM sales \n",
    "INNER JOIN product_names \n",
    "  ON sales.product_id = product_names.product_id;"
   ]
  },
  {
   "cell_type": "code",
   "execution_count": null,
   "id": "9c9683fb",
   "metadata": {},
   "outputs": [],
   "source": []
  },
  {
   "cell_type": "code",
   "execution_count": null,
   "id": "6e593559",
   "metadata": {
    "lines_to_next_cell": 2
   },
   "outputs": [],
   "source": [
    "\n",
    "## Step 4: Display the first five rows of products_sales"
   ]
  },
  {
   "cell_type": "markdown",
   "id": "08fa49c4",
   "metadata": {},
   "source": [
    "# Exercise 9.1: Preliminary Data Collection Using SQL Techniques\n",
    "This exercise collects preliminary data. We will load the database, list scooter product details, extract product IDs, and store the results in a new table."
   ]
  },
  {
   "cell_type": "markdown",
   "id": "cd9e9cec",
   "metadata": {},
   "source": [
    "## Step 1: Load the sqlda database"
   ]
  },
  {
   "cell_type": "markdown",
   "id": "5c904f26",
   "metadata": {},
   "source": [
    "psql sqlda"
   ]
  },
  {
   "cell_type": "markdown",
   "id": "735c1e30",
   "metadata": {},
   "source": [
    "## Step 2: List the model, base_msrp, and production_start_date for scooter products"
   ]
  },
  {
   "cell_type": "code",
   "execution_count": null,
   "id": "a1f56bd4",
   "metadata": {},
   "outputs": [],
   "source": [
    "SELECT model, base_msrp, production_start_date \n",
    "FROM products \n",
    "WHERE product_type = 'scooter';"
   ]
  },
  {
   "cell_type": "markdown",
   "id": "61f20e2e",
   "metadata": {},
   "source": [
    "## Step 3: Extract the model name and product IDs for scooter products"
   ]
  },
  {
   "cell_type": "code",
   "execution_count": null,
   "id": "6f1d9fe8",
   "metadata": {},
   "outputs": [],
   "source": [
    "SELECT model, product_id \n",
    "FROM products \n",
    "WHERE product_type = 'scooter';"
   ]
  },
  {
   "cell_type": "markdown",
   "id": "f8d10e79",
   "metadata": {},
   "source": [
    "## Step 4: Insert the above results into a new table called product_names"
   ]
  },
  {
   "cell_type": "code",
   "execution_count": null,
   "id": "3ba5016c",
   "metadata": {},
   "outputs": [],
   "source": [
    "SELECT model, product_id \n",
    "INTO product_names \n",
    "FROM products \n",
    "WHERE product_type = 'scooter';"
   ]
  },
  {
   "cell_type": "markdown",
   "id": "cb13f9f6",
   "metadata": {},
   "source": [
    "# Exercise 9.2: Extracting the Sales Information\n",
    "In this exercise we join sales data with the product names and then isolate Bat Scooter sales."
   ]
  },
  {
   "cell_type": "markdown",
   "id": "320897ce",
   "metadata": {},
   "source": [
    "## Step 1: Load the sqlda database"
   ]
  },
  {
   "cell_type": "markdown",
   "id": "024ebee9",
   "metadata": {},
   "source": [
    "psql sqlda"
   ]
  },
  {
   "cell_type": "markdown",
   "id": "db8191c4",
   "metadata": {},
   "source": [
    "## Step 2: List the available fields in the database"
   ]
  },
  {
   "cell_type": "markdown",
   "id": "7b450661",
   "metadata": {},
   "source": [
    "## Step 3: Create a new table (products_sales) by joining sales and product_names on product_id"
   ]
  },
  {
   "cell_type": "code",
   "execution_count": null,
   "id": "63c62885",
   "metadata": {},
   "outputs": [],
   "source": [
    "SELECT model, customer_id, sales_transaction_date, sales_amount, channel, dealership_id \n",
    "INTO products_sales \n",
    "FROM sales \n",
    "INNER JOIN product_names \n",
    "  ON sales.product_id = product_names.product_id;"
   ]
  },
  {
   "cell_type": "markdown",
   "id": "ac71ec20",
   "metadata": {},
   "source": [
    "## Step 4: Display the first five rows of products_sales"
   ]
  },
  {
   "cell_type": "code",
   "execution_count": null,
   "id": "c86d6b99",
   "metadata": {},
   "outputs": [],
   "source": [
    "SELECT * \n",
    "FROM products_sales \n",
    "LIMIT 5;"
   ]
  },
  {
   "cell_type": "markdown",
   "id": "61ce0852",
   "metadata": {},
   "source": [
    "## Step 5: Retrieve Bat Scooter sales ordered by sales_transaction_date"
   ]
  },
  {
   "cell_type": "code",
   "execution_count": null,
   "id": "7b697683",
   "metadata": {},
   "outputs": [],
   "source": [
    "SELECT * \n",
    "FROM products_sales \n",
    "WHERE model = 'Bat' \n",
    "ORDER BY sales_transaction_date;"
   ]
  },
  {
   "cell_type": "markdown",
   "id": "2c413c11",
   "metadata": {},
   "source": [
    "## Step 6: Count the number of Bat Scooter sales records"
   ]
  },
  {
   "cell_type": "code",
   "execution_count": null,
   "id": "2f086b97",
   "metadata": {},
   "outputs": [],
   "source": [
    "SELECT COUNT(model) \n",
    "FROM products_sales \n",
    "WHERE model = 'Bat';"
   ]
  },
  {
   "cell_type": "markdown",
   "id": "b44b3c2f",
   "metadata": {},
   "source": [
    "## Step 7: Determine the last sale date for the Bat Scooter"
   ]
  },
  {
   "cell_type": "code",
   "execution_count": null,
   "id": "89fc6fdf",
   "metadata": {},
   "outputs": [],
   "source": [
    "SELECT MAX(sales_transaction_date) \n",
    "FROM products_sales \n",
    "WHERE model = 'Bat';"
   ]
  },
  {
   "cell_type": "markdown",
   "id": "7ad5e59f",
   "metadata": {},
   "source": [
    "## Step 8: Insert Bat Scooter sales records into a new table (bat_sales) ordered by date"
   ]
  },
  {
   "cell_type": "code",
   "execution_count": null,
   "id": "d2f2fa8d",
   "metadata": {},
   "outputs": [],
   "source": [
    "SELECT * \n",
    "INTO bat_sales \n",
    "FROM products_sales \n",
    "WHERE model = 'Bat' \n",
    "ORDER BY sales_transaction_date;"
   ]
  },
  {
   "cell_type": "markdown",
   "id": "8569edce",
   "metadata": {},
   "source": [
    "## Step 9: Remove the time information in bat_sales (convert to date)"
   ]
  },
  {
   "cell_type": "code",
   "execution_count": null,
   "id": "c6218139",
   "metadata": {},
   "outputs": [],
   "source": [
    "UPDATE bat_sales \n",
    "SET sales_transaction_date = DATE(sales_transaction_date);"
   ]
  },
  {
   "cell_type": "markdown",
   "id": "98204ab0",
   "metadata": {},
   "source": [
    "## Step 10: Display the first five records of bat_sales ordered by date"
   ]
  },
  {
   "cell_type": "code",
   "execution_count": null,
   "id": "8a78b197",
   "metadata": {},
   "outputs": [],
   "source": [
    "SELECT * \n",
    "FROM bat_sales \n",
    "ORDER BY sales_transaction_date \n",
    "LIMIT 5;"
   ]
  },
  {
   "cell_type": "markdown",
   "id": "d7a25b21",
   "metadata": {},
   "source": [
    "## Step 11: Create bat_sales_daily table with daily sales count"
   ]
  },
  {
   "cell_type": "code",
   "execution_count": null,
   "id": "abc86a3e",
   "metadata": {},
   "outputs": [],
   "source": [
    "SELECT sales_transaction_date, COUNT(sales_transaction_date) \n",
    "INTO bat_sales_daily \n",
    "FROM bat_sales \n",
    "GROUP BY sales_transaction_date \n",
    "ORDER BY sales_transaction_date;"
   ]
  },
  {
   "cell_type": "markdown",
   "id": "b157c6cf",
   "metadata": {},
   "source": [
    "# Activity 9.1: Quantifying the Sales Drop\n",
    "Here we compute a cumulative sum of daily sales, apply a 7-day lag, and calculate the growth rate (volume)."
   ]
  },
  {
   "cell_type": "markdown",
   "id": "fccfcb9e",
   "metadata": {},
   "source": [
    "## Step 1: Load the sqlda database\n",
    "\n",
    "psql sqlda"
   ]
  },
  {
   "cell_type": "markdown",
   "id": "f68a4539",
   "metadata": {},
   "source": [
    "## Step 2: Compute the daily cumulative sum of sales and insert into bat_sales_growth"
   ]
  },
  {
   "cell_type": "code",
   "execution_count": null,
   "id": "c5c67a07",
   "metadata": {},
   "outputs": [],
   "source": [
    "SELECT *, sum(count) OVER (ORDER BY sales_transaction_date) AS cumulative_sum\n",
    "INTO bat_sales_growth\n",
    "FROM bat_sales_daily;"
   ]
  },
  {
   "cell_type": "markdown",
   "id": "fd59ef82",
   "metadata": {},
   "source": [
    "## Step 3: Compute a 7-day lag of the cumulative sum and insert into bat_sales_daily_delay"
   ]
  },
  {
   "cell_type": "code",
   "execution_count": null,
   "id": "41990786",
   "metadata": {},
   "outputs": [],
   "source": [
    "SELECT *, lag(cumulative_sum, 7) OVER (ORDER BY sales_transaction_date) AS lag_value\n",
    "INTO bat_sales_daily_delay\n",
    "FROM bat_sales_growth;"
   ]
  },
  {
   "cell_type": "markdown",
   "id": "5cdec19c",
   "metadata": {},
   "source": [
    "## Step 4: Inspect the first 15 rows of bat_sales_daily_delay"
   ]
  },
  {
   "cell_type": "code",
   "execution_count": null,
   "id": "ac10527f",
   "metadata": {},
   "outputs": [],
   "source": [
    "SELECT * \n",
    "FROM bat_sales_daily_delay \n",
    "LIMIT 15;"
   ]
  },
  {
   "cell_type": "markdown",
   "id": "31a50be9",
   "metadata": {},
   "source": [
    "## Step 5: Compute sales growth as a percentage and insert into bat_sales_delay_vol"
   ]
  },
  {
   "cell_type": "code",
   "execution_count": null,
   "id": "b955737e",
   "metadata": {},
   "outputs": [],
   "source": [
    "SELECT *, (cumulative_sum - lag_value) / lag_value AS volume\n",
    "INTO bat_sales_delay_vol\n",
    "FROM bat_sales_daily_delay;"
   ]
  },
  {
   "cell_type": "markdown",
   "id": "c814eeff",
   "metadata": {},
   "source": [
    "## Step 6: Display the first 22 records of bat_sales_delay_vol"
   ]
  },
  {
   "cell_type": "code",
   "execution_count": null,
   "id": "e1978c91",
   "metadata": {},
   "outputs": [],
   "source": [
    "SELECT * \n",
    "FROM bat_sales_delay_vol \n",
    "LIMIT 22;"
   ]
  },
  {
   "cell_type": "markdown",
   "id": "5215b24c",
   "metadata": {},
   "source": [
    "#### ----------------------------------------------------------------------------------"
   ]
  },
  {
   "cell_type": "code",
   "execution_count": null,
   "id": "2536ea0e",
   "metadata": {},
   "outputs": [],
   "source": [
    "*/"
   ]
  },
  {
   "cell_type": "code",
   "execution_count": null,
   "id": "85063dc4",
   "metadata": {},
   "outputs": [],
   "source": [
    "SELECT * \n",
    "FROM products_sales \n",
    "LIMIT 5;"
   ]
  },
  {
   "cell_type": "code",
   "execution_count": null,
   "id": "b11baa93",
   "metadata": {},
   "outputs": [],
   "source": []
  },
  {
   "cell_type": "code",
   "execution_count": null,
   "id": "b528ba0c",
   "metadata": {
    "lines_to_next_cell": 2
   },
   "outputs": [],
   "source": [
    "\n",
    "## Step 5: Retrieve Bat Scooter sales ordered by sales_transaction_date"
   ]
  },
  {
   "cell_type": "code",
   "execution_count": null,
   "id": "d21a7d4f",
   "metadata": {},
   "outputs": [],
   "source": [
    "*/"
   ]
  },
  {
   "cell_type": "code",
   "execution_count": null,
   "id": "b7cf315e",
   "metadata": {},
   "outputs": [],
   "source": [
    "SELECT * \n",
    "FROM products_sales \n",
    "WHERE model = 'Bat' \n",
    "ORDER BY sales_transaction_date;"
   ]
  },
  {
   "cell_type": "code",
   "execution_count": null,
   "id": "d6dab14d",
   "metadata": {},
   "outputs": [],
   "source": []
  },
  {
   "cell_type": "code",
   "execution_count": null,
   "id": "7ee34b48",
   "metadata": {
    "lines_to_next_cell": 2
   },
   "outputs": [],
   "source": [
    "\n",
    "## Step 6: Count the number of Bat Scooter sales records"
   ]
  },
  {
   "cell_type": "code",
   "execution_count": null,
   "id": "b42a0fd8",
   "metadata": {},
   "outputs": [],
   "source": [
    "*/"
   ]
  },
  {
   "cell_type": "code",
   "execution_count": null,
   "id": "f0317e49",
   "metadata": {},
   "outputs": [],
   "source": [
    "SELECT COUNT(model) \n",
    "FROM products_sales \n",
    "WHERE model = 'Bat';"
   ]
  },
  {
   "cell_type": "code",
   "execution_count": null,
   "id": "d02892bb",
   "metadata": {},
   "outputs": [],
   "source": []
  },
  {
   "cell_type": "code",
   "execution_count": null,
   "id": "c9618f8c",
   "metadata": {
    "lines_to_next_cell": 2
   },
   "outputs": [],
   "source": [
    "\n",
    "## Step 7: Determine the last sale date for the Bat Scooter"
   ]
  },
  {
   "cell_type": "code",
   "execution_count": null,
   "id": "86fde4df",
   "metadata": {},
   "outputs": [],
   "source": [
    "*/"
   ]
  },
  {
   "cell_type": "code",
   "execution_count": null,
   "id": "b95e07be",
   "metadata": {},
   "outputs": [],
   "source": [
    "SELECT MAX(sales_transaction_date) \n",
    "FROM products_sales \n",
    "WHERE model = 'Bat';"
   ]
  },
  {
   "cell_type": "code",
   "execution_count": null,
   "id": "daba74d5",
   "metadata": {},
   "outputs": [],
   "source": []
  },
  {
   "cell_type": "code",
   "execution_count": null,
   "id": "9cb5729b",
   "metadata": {
    "lines_to_next_cell": 2
   },
   "outputs": [],
   "source": [
    "\n",
    "## Step 8: Insert Bat Scooter sales records into a new table (bat_sales) ordered by date"
   ]
  },
  {
   "cell_type": "code",
   "execution_count": null,
   "id": "a12eeba8",
   "metadata": {},
   "outputs": [],
   "source": [
    "*/"
   ]
  },
  {
   "cell_type": "code",
   "execution_count": null,
   "id": "d5fb0a33",
   "metadata": {},
   "outputs": [],
   "source": [
    "SELECT * \n",
    "INTO bat_sales \n",
    "FROM products_sales \n",
    "WHERE model = 'Bat' \n",
    "ORDER BY sales_transaction_date;"
   ]
  },
  {
   "cell_type": "code",
   "execution_count": null,
   "id": "f0503217",
   "metadata": {},
   "outputs": [],
   "source": []
  },
  {
   "cell_type": "code",
   "execution_count": null,
   "id": "06983b3e",
   "metadata": {
    "lines_to_next_cell": 2
   },
   "outputs": [],
   "source": [
    "\n",
    "## Step 9: Remove the time information in bat_sales (convert to date)"
   ]
  },
  {
   "cell_type": "code",
   "execution_count": null,
   "id": "c1558401",
   "metadata": {},
   "outputs": [],
   "source": [
    "*/"
   ]
  },
  {
   "cell_type": "code",
   "execution_count": null,
   "id": "5122b580",
   "metadata": {},
   "outputs": [],
   "source": [
    "UPDATE bat_sales \n",
    "SET sales_transaction_date = DATE(sales_transaction_date);"
   ]
  },
  {
   "cell_type": "code",
   "execution_count": null,
   "id": "fcaf6505",
   "metadata": {},
   "outputs": [],
   "source": []
  },
  {
   "cell_type": "code",
   "execution_count": null,
   "id": "c93d97e6",
   "metadata": {
    "lines_to_next_cell": 2
   },
   "outputs": [],
   "source": [
    "\n",
    "## Step 10: Display the first five records of bat_sales ordered by date"
   ]
  },
  {
   "cell_type": "code",
   "execution_count": null,
   "id": "e93a144e",
   "metadata": {},
   "outputs": [],
   "source": [
    "*/"
   ]
  },
  {
   "cell_type": "code",
   "execution_count": null,
   "id": "d8675e3f",
   "metadata": {},
   "outputs": [],
   "source": [
    "SELECT * \n",
    "FROM bat_sales \n",
    "ORDER BY sales_transaction_date \n",
    "LIMIT 5;"
   ]
  },
  {
   "cell_type": "code",
   "execution_count": null,
   "id": "eeeed0dd",
   "metadata": {},
   "outputs": [],
   "source": []
  },
  {
   "cell_type": "code",
   "execution_count": null,
   "id": "c9137bcb",
   "metadata": {
    "lines_to_next_cell": 2
   },
   "outputs": [],
   "source": [
    "\n",
    "## Step 11: Create bat_sales_daily table with daily sales count"
   ]
  },
  {
   "cell_type": "code",
   "execution_count": null,
   "id": "4511890b",
   "metadata": {},
   "outputs": [],
   "source": [
    "*/"
   ]
  },
  {
   "cell_type": "code",
   "execution_count": null,
   "id": "a330ceb1",
   "metadata": {},
   "outputs": [],
   "source": [
    "SELECT sales_transaction_date, COUNT(sales_transaction_date) \n",
    "INTO bat_sales_daily \n",
    "FROM bat_sales \n",
    "GROUP BY sales_transaction_date \n",
    "ORDER BY sales_transaction_date;"
   ]
  },
  {
   "cell_type": "code",
   "execution_count": null,
   "id": "95d2dead",
   "metadata": {},
   "outputs": [],
   "source": []
  },
  {
   "cell_type": "code",
   "execution_count": null,
   "id": "dc27c011",
   "metadata": {},
   "outputs": [],
   "source": [
    ""
   ]
  },
  {
   "cell_type": "code",
   "execution_count": null,
   "id": "fc6289cd",
   "metadata": {
    "lines_to_next_cell": 2
   },
   "outputs": [],
   "source": [
    "# Activity 9.1: Quantifying the Sales Drop\n",
    "Here we compute a cumulative sum of daily sales, apply a 7-day lag, and calculate the growth rate (volume)."
   ]
  },
  {
   "cell_type": "code",
   "execution_count": null,
   "id": "b505fffa",
   "metadata": {},
   "outputs": [],
   "source": [
    "*/"
   ]
  },
  {
   "cell_type": "code",
   "execution_count": null,
   "id": "c7707919",
   "metadata": {},
   "outputs": [],
   "source": [
    ""
   ]
  },
  {
   "cell_type": "markdown",
   "id": "e7ec4be0",
   "metadata": {},
   "source": [
    "# Step 1: Load the sqlda database"
   ]
  },
  {
   "cell_type": "code",
   "execution_count": null,
   "id": "87450942",
   "metadata": {},
   "outputs": [],
   "source": [
    "psql sqlda\n",
    "*/"
   ]
  },
  {
   "cell_type": "code",
   "execution_count": null,
   "id": "0053dc21",
   "metadata": {},
   "outputs": [],
   "source": [
    ""
   ]
  },
  {
   "cell_type": "code",
   "execution_count": null,
   "id": "7e0f8343",
   "metadata": {},
   "outputs": [],
   "source": [
    "## Step 2: Compute the daily cumulative sum of sales and insert into bat_sales_growth\n",
    "*/"
   ]
  },
  {
   "cell_type": "code",
   "execution_count": null,
   "id": "9037ec9f",
   "metadata": {},
   "outputs": [],
   "source": [
    "SELECT *, sum(count) OVER (ORDER BY sales_transaction_date) AS cumulative_sum\n",
    "INTO bat_sales_growth\n",
    "FROM bat_sales_daily;"
   ]
  },
  {
   "cell_type": "code",
   "execution_count": null,
   "id": "2172ebe3",
   "metadata": {},
   "outputs": [],
   "source": []
  },
  {
   "cell_type": "code",
   "execution_count": null,
   "id": "4c9d53f1",
   "metadata": {
    "lines_to_next_cell": 2
   },
   "outputs": [],
   "source": [
    "\n",
    "## Step 3: Compute a 7-day lag of the cumulative sum and insert into bat_sales_daily_delay"
   ]
  },
  {
   "cell_type": "code",
   "execution_count": null,
   "id": "e2abdc9a",
   "metadata": {},
   "outputs": [],
   "source": [
    "*/"
   ]
  },
  {
   "cell_type": "code",
   "execution_count": null,
   "id": "ee606e34",
   "metadata": {},
   "outputs": [],
   "source": [
    "SELECT *, lag(cumulative_sum, 7) OVER (ORDER BY sales_transaction_date) AS lag_value\n",
    "INTO bat_sales_daily_delay\n",
    "FROM bat_sales_growth;"
   ]
  },
  {
   "cell_type": "code",
   "execution_count": null,
   "id": "64ece351",
   "metadata": {},
   "outputs": [],
   "source": []
  },
  {
   "cell_type": "code",
   "execution_count": null,
   "id": "ed0abead",
   "metadata": {
    "lines_to_next_cell": 2
   },
   "outputs": [],
   "source": [
    "\n",
    "## Step 4: Inspect the first 15 rows of bat_sales_daily_delay"
   ]
  },
  {
   "cell_type": "code",
   "execution_count": null,
   "id": "d76d2a03",
   "metadata": {},
   "outputs": [],
   "source": [
    "*/"
   ]
  },
  {
   "cell_type": "code",
   "execution_count": null,
   "id": "035280c1",
   "metadata": {},
   "outputs": [],
   "source": [
    "SELECT * \n",
    "FROM bat_sales_daily_delay \n",
    "LIMIT 15;"
   ]
  },
  {
   "cell_type": "code",
   "execution_count": null,
   "id": "f5ed089a",
   "metadata": {},
   "outputs": [],
   "source": []
  },
  {
   "cell_type": "code",
   "execution_count": null,
   "id": "623662a0",
   "metadata": {
    "lines_to_next_cell": 2
   },
   "outputs": [],
   "source": [
    "\n",
    "## Step 5: Compute sales growth as a percentage and insert into bat_sales_delay_vol"
   ]
  },
  {
   "cell_type": "code",
   "execution_count": null,
   "id": "f6b808a4",
   "metadata": {},
   "outputs": [],
   "source": [
    "*/"
   ]
  },
  {
   "cell_type": "code",
   "execution_count": null,
   "id": "feb2cf00",
   "metadata": {},
   "outputs": [],
   "source": [
    "SELECT *, (cumulative_sum - lag_value) / lag_value AS volume\n",
    "INTO bat_sales_delay_vol\n",
    "FROM bat_sales_daily_delay;"
   ]
  },
  {
   "cell_type": "code",
   "execution_count": null,
   "id": "6b3c5544",
   "metadata": {},
   "outputs": [],
   "source": []
  },
  {
   "cell_type": "code",
   "execution_count": null,
   "id": "645dee5f",
   "metadata": {
    "lines_to_next_cell": 2
   },
   "outputs": [],
   "source": [
    "\n",
    "## Step 6: Display the first 22 records of bat_sales_delay_vol"
   ]
  },
  {
   "cell_type": "code",
   "execution_count": null,
   "id": "95cb1e91",
   "metadata": {},
   "outputs": [],
   "source": [
    "*/"
   ]
  },
  {
   "cell_type": "code",
   "execution_count": null,
   "id": "11254ede",
   "metadata": {},
   "outputs": [],
   "source": [
    "SELECT * \n",
    "FROM bat_sales_delay_vol \n",
    "LIMIT 22;"
   ]
  },
  {
   "cell_type": "code",
   "execution_count": null,
   "id": "a8df8de0",
   "metadata": {},
   "outputs": [],
   "source": []
  },
  {
   "cell_type": "code",
   "execution_count": null,
   "id": "34dd48cd",
   "metadata": {},
   "outputs": [],
   "source": [
    "\n",
    "#### ----------------------------------------------------------------------------------\n",
    "*/"
   ]
  }
 ],
 "metadata": {
  "jupytext": {
   "cell_metadata_filter": "-all",
   "main_language": "python",
   "notebook_metadata_filter": "-all"
  },
  "kernelspec": {
   "display_name": ".venv",
   "language": "python",
   "name": "python3"
  },
  "language_info": {
   "name": "python",
   "version": "3.13.2"
  }
 },
 "nbformat": 4,
 "nbformat_minor": 5
}
